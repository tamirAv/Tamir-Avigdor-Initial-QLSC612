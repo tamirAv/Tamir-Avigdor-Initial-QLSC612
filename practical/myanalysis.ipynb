{
 "cells": [
  {
   "cell_type": "markdown",
   "metadata": {},
   "source": [
    "# QLSC612 assignment "
   ]
  },
  {
   "cell_type": "markdown",
   "metadata": {},
   "source": [
    "Here we explore the relation between IQ, brain size, and 'partY'.\n",
    "It has been long debated in the psychometric community the relation between IQ and brain size, yet until now relations were week and prone to a high degree of variability.\n",
    "\n",
    "Here we investigate the IQ-Brain size connection with it's relation to 'partY' which has been hypothesized to play a rule in the link between the mental and physical.\n",
    "\n",
    "We conducted a careful statistical analysis using a big dataset of 40 patients, the analysis revealed the potential origin of the IQ-Brain size relationship. Results show the when controlling for the important parameter of 'partY' the connection becomes robust.\n",
    "\n",
    "These results are the first successful attempt of demonstrating a clear robust connection between IQ and brain size.\n"
   ]
  },
  {
   "cell_type": "code",
   "execution_count": 83,
   "metadata": {},
   "outputs": [],
   "source": [
    "import pandas as pd \n",
    "import numpy as np\n",
    "import statsmodels\n",
    "from scipy import stats\n",
    "from scipy import stats as sst\n",
    "import statsmodels.formula.api as smf"
   ]
  },
  {
   "cell_type": "markdown",
   "metadata": {},
   "source": [
    "We introduce our dataset which includes 40 patiets with \n",
    "    1. IQ messures \n",
    "    2. Body and gender characteristics \n",
    "    3. Brian size (MRI count)"
   ]
  },
  {
   "cell_type": "code",
   "execution_count": 25,
   "metadata": {},
   "outputs": [
    {
     "data": {
      "text/html": [
       "<div>\n",
       "<style scoped>\n",
       "    .dataframe tbody tr th:only-of-type {\n",
       "        vertical-align: middle;\n",
       "    }\n",
       "\n",
       "    .dataframe tbody tr th {\n",
       "        vertical-align: top;\n",
       "    }\n",
       "\n",
       "    .dataframe thead th {\n",
       "        text-align: right;\n",
       "    }\n",
       "</style>\n",
       "<table border=\"1\" class=\"dataframe\">\n",
       "  <thead>\n",
       "    <tr style=\"text-align: right;\">\n",
       "      <th></th>\n",
       "      <th>Gender</th>\n",
       "      <th>FSIQ</th>\n",
       "      <th>VIQ</th>\n",
       "      <th>PIQ</th>\n",
       "      <th>Weight</th>\n",
       "      <th>Height</th>\n",
       "      <th>MRI_Count</th>\n",
       "    </tr>\n",
       "  </thead>\n",
       "  <tbody>\n",
       "    <tr>\n",
       "      <th>1</th>\n",
       "      <td>Female</td>\n",
       "      <td>133</td>\n",
       "      <td>132</td>\n",
       "      <td>124</td>\n",
       "      <td>118.0</td>\n",
       "      <td>64.5</td>\n",
       "      <td>816932</td>\n",
       "    </tr>\n",
       "    <tr>\n",
       "      <th>2</th>\n",
       "      <td>Male</td>\n",
       "      <td>140</td>\n",
       "      <td>150</td>\n",
       "      <td>124</td>\n",
       "      <td>NaN</td>\n",
       "      <td>72.5</td>\n",
       "      <td>1001121</td>\n",
       "    </tr>\n",
       "    <tr>\n",
       "      <th>3</th>\n",
       "      <td>Male</td>\n",
       "      <td>139</td>\n",
       "      <td>123</td>\n",
       "      <td>150</td>\n",
       "      <td>143.0</td>\n",
       "      <td>73.3</td>\n",
       "      <td>1038437</td>\n",
       "    </tr>\n",
       "    <tr>\n",
       "      <th>4</th>\n",
       "      <td>Male</td>\n",
       "      <td>133</td>\n",
       "      <td>129</td>\n",
       "      <td>128</td>\n",
       "      <td>172.0</td>\n",
       "      <td>68.8</td>\n",
       "      <td>965353</td>\n",
       "    </tr>\n",
       "    <tr>\n",
       "      <th>5</th>\n",
       "      <td>Female</td>\n",
       "      <td>137</td>\n",
       "      <td>132</td>\n",
       "      <td>134</td>\n",
       "      <td>147.0</td>\n",
       "      <td>65.0</td>\n",
       "      <td>951545</td>\n",
       "    </tr>\n",
       "  </tbody>\n",
       "</table>\n",
       "</div>"
      ],
      "text/plain": [
       "   Gender  FSIQ  VIQ  PIQ  Weight  Height  MRI_Count\n",
       "1  Female   133  132  124   118.0    64.5     816932\n",
       "2    Male   140  150  124     NaN    72.5    1001121\n",
       "3    Male   139  123  150   143.0    73.3    1038437\n",
       "4    Male   133  129  128   172.0    68.8     965353\n",
       "5  Female   137  132  134   147.0    65.0     951545"
      ]
     },
     "execution_count": 25,
     "metadata": {},
     "output_type": "execute_result"
    }
   ],
   "source": [
    "data= pd.read_csv('brainsize.csv', sep=';', na_values='.',index_col=0) //Reading data dealing with Missing values \n",
    "data.head()"
   ]
  },
  {
   "cell_type": "code",
   "execution_count": 81,
   "metadata": {},
   "outputs": [
    {
     "data": {
      "text/plain": [
       "(0.3374777280203354, 0.033201762692926864)"
      ]
     },
     "execution_count": 81,
     "metadata": {},
     "output_type": "execute_result"
    }
   ],
   "source": [
    "sst.pearsonr(data['VIQ'], data['MRI_Count'])"
   ]
  },
  {
   "cell_type": "markdown",
   "metadata": {},
   "source": [
    "Verbal IQ and brain size correlation"
   ]
  },
  {
   "cell_type": "code",
   "execution_count": 139,
   "metadata": {},
   "outputs": [
    {
     "data": {
      "text/plain": [
       "(0.3374777280203354, 0.033201762692926864)"
      ]
     },
     "execution_count": 139,
     "metadata": {},
     "output_type": "execute_result"
    }
   ],
   "source": [
    "sst.pearsonr(data['VIQ'], data['MRI_Count'])"
   ]
  },
  {
   "cell_type": "markdown",
   "metadata": {},
   "source": [
    "Ploting the correlation between Verbal IQ and Brian size"
   ]
  },
  {
   "cell_type": "code",
   "execution_count": 140,
   "metadata": {},
   "outputs": [
    {
     "ename": "NameError",
     "evalue": "name 'Plot' is not defined",
     "output_type": "error",
     "traceback": [
      "\u001b[0;31m---------------------------------------------------------------------------\u001b[0m",
      "\u001b[0;31mNameError\u001b[0m                                 Traceback (most recent call last)",
      "\u001b[0;32m<ipython-input-140-8cb1769f85df>\u001b[0m in \u001b[0;36m<module>\u001b[0;34m\u001b[0m\n\u001b[0;32m----> 1\u001b[0;31m \u001b[0mPlot\u001b[0m\u001b[0;34m(\u001b[0m \u001b[0mdata\u001b[0m\u001b[0;34m[\u001b[0m\u001b[0;34m'VIQ'\u001b[0m\u001b[0;34m]\u001b[0m\u001b[0;34m,\u001b[0m \u001b[0mdata\u001b[0m\u001b[0;34m[\u001b[0m\u001b[0;34m'MRI_Count'\u001b[0m\u001b[0;34m]\u001b[0m\u001b[0;34m)\u001b[0m\u001b[0;34m\u001b[0m\u001b[0;34m\u001b[0m\u001b[0m\n\u001b[0m",
      "\u001b[0;31mNameError\u001b[0m: name 'Plot' is not defined"
     ]
    }
   ],
   "source": [
    "Plot( data['VIQ'], data['MRI_Count'])"
   ]
  },
  {
   "cell_type": "markdown",
   "metadata": {},
   "source": [
    "# Including 'partY' as a controling factor"
   ]
  },
  {
   "cell_type": "markdown",
   "metadata": {},
   "source": [
    "While the correlation between verbal IQ and brain size was significant (p<0.05) this correlation was a week (R^2 =0.1) thus not allowing a good explanation of the variance at hand.\n",
    "Previous studies show that depending on the dataset this correlation can be weaker, stronger or nonexisting.\n",
    "\n",
    "Here we present a potential root cause of these differences in measurements using 'partY'.\n",
    "When controlling for this important factor the correlation between verbal IQ and brain size becomes robust and apparent."
   ]
  },
  {
   "cell_type": "markdown",
   "metadata": {},
   "source": [
    "Using multiple regression we include 'partY' as an added factor for the brain size when correlated with the Verbal IQ scores"
   ]
  },
  {
   "cell_type": "code",
   "execution_count": 141,
   "metadata": {},
   "outputs": [
    {
     "name": "stdout",
     "output_type": "stream",
     "text": [
      "                            OLS Regression Results                            \n",
      "==============================================================================\n",
      "Dep. Variable:                    VIQ   R-squared:                       0.318\n",
      "Model:                            OLS   Adj. R-squared:                  0.281\n",
      "Method:                 Least Squares   F-statistic:                     8.628\n",
      "Date:                Mon, 18 May 2020   Prob (F-statistic):           0.000840\n",
      "Time:                        09:51:56   Log-Likelihood:                -175.07\n",
      "No. Observations:                  40   AIC:                             356.1\n",
      "Df Residuals:                      37   BIC:                             361.2\n",
      "Df Model:                           2                                         \n",
      "Covariance Type:            nonrobust                                         \n",
      "==============================================================================\n",
      "                 coef    std err          t      P>|t|      [0.025      0.975]\n",
      "------------------------------------------------------------------------------\n",
      "Intercept    116.8144     51.224      2.280      0.028      13.025     220.603\n",
      "MRI_Count      0.0001   4.47e-05      2.880      0.007    3.82e-05       0.000\n",
      "prediction    -1.2222      0.367     -3.328      0.002      -1.966      -0.478\n",
      "==============================================================================\n",
      "Omnibus:                        3.587   Durbin-Watson:                   2.155\n",
      "Prob(Omnibus):                  0.166   Jarque-Bera (JB):                2.160\n",
      "Skew:                           0.341   Prob(JB):                        0.340\n",
      "Kurtosis:                       2.089   Cond. No.                     1.47e+07\n",
      "==============================================================================\n",
      "\n",
      "Warnings:\n",
      "[1] Standard Errors assume that the covariance matrix of the errors is correctly specified.\n",
      "[2] The condition number is large, 1.47e+07. This might indicate that there are\n",
      "strong multicollinearity or other numerical problems.\n"
     ]
    },
    {
     "data": {
      "text/plain": [
       "0.31804240648638715"
      ]
     },
     "execution_count": 141,
     "metadata": {},
     "output_type": "execute_result"
    }
   ],
   "source": [
    "np.random.seed(35)\n",
    "mu, sigma = 100, 10 # mean and standard deviation\n",
    "partY=np.random.normal(mu, sigma,size=len(data.index))\n",
    "data['prediction'] = partY\n",
    "model = ols('VIQ ~  MRI_Count + prediction', data).fit()\n",
    "print(model.summary())\n"
   ]
  },
  {
   "cell_type": "markdown",
   "metadata": {},
   "source": [
    "This model is successful in explaining 0.31% if the variance in the data, this robust improvement points to the importance of controlling for 'partY' when exploring the relationship between IQ and Brian size  "
   ]
  },
  {
   "cell_type": "code",
   "execution_count": 142,
   "metadata": {},
   "outputs": [
    {
     "data": {
      "text/plain": [
       "0.31804240648638715"
      ]
     },
     "execution_count": 142,
     "metadata": {},
     "output_type": "execute_result"
    }
   ],
   "source": [
    "model.rsquared"
   ]
  },
  {
   "cell_type": "markdown",
   "metadata": {},
   "source": [
    "Plotting the correlation -TODO"
   ]
  },
  {
   "cell_type": "code",
   "execution_count": 138,
   "metadata": {},
   "outputs": [
    {
     "name": "stdout",
     "output_type": "stream",
     "text": [
      "                            OLS Regression Results                            \n",
      "==============================================================================\n",
      "Dep. Variable:                    VIQ   R-squared:                       0.318\n",
      "Model:                            OLS   Adj. R-squared:                  0.281\n",
      "Method:                 Least Squares   F-statistic:                     8.628\n",
      "Date:                Mon, 18 May 2020   Prob (F-statistic):           0.000840\n",
      "Time:                        09:44:03   Log-Likelihood:                -175.07\n",
      "No. Observations:                  40   AIC:                             356.1\n",
      "Df Residuals:                      37   BIC:                             361.2\n",
      "Df Model:                           2                                         \n",
      "Covariance Type:            nonrobust                                         \n",
      "==============================================================================\n",
      "                 coef    std err          t      P>|t|      [0.025      0.975]\n",
      "------------------------------------------------------------------------------\n",
      "Intercept    116.8144     51.224      2.280      0.028      13.025     220.603\n",
      "MRI_Count      0.0001   4.47e-05      2.880      0.007    3.82e-05       0.000\n",
      "prediction    -1.2222      0.367     -3.328      0.002      -1.966      -0.478\n",
      "==============================================================================\n",
      "Omnibus:                        3.587   Durbin-Watson:                   2.155\n",
      "Prob(Omnibus):                  0.166   Jarque-Bera (JB):                2.160\n",
      "Skew:                           0.341   Prob(JB):                        0.340\n",
      "Kurtosis:                       2.089   Cond. No.                     1.47e+07\n",
      "==============================================================================\n",
      "\n",
      "Warnings:\n",
      "[1] Standard Errors assume that the covariance matrix of the errors is correctly specified.\n",
      "[2] The condition number is large, 1.47e+07. This might indicate that there are\n",
      "strong multicollinearity or other numerical problems.\n"
     ]
    },
    {
     "data": {
      "text/plain": [
       "0.31804240648638715"
      ]
     },
     "execution_count": 138,
     "metadata": {},
     "output_type": "execute_result"
    }
   ],
   "source": [
    "np.random.seed(35)\n",
    "mu, sigma = 100, 10 # mean and standard deviation\n",
    "partY=np.random.normal(mu, sigma,size=len(data.index))\n",
    "data['prediction'] = partY\n",
    "model = ols('VIQ ~  MRI_Count + prediction', data).fit()\n",
    "print(model.summary())\n",
    "model.rsquared"
   ]
  },
  {
   "cell_type": "markdown",
   "metadata": {},
   "source": [
    "# Using another seed"
   ]
  },
  {
   "cell_type": "markdown",
   "metadata": {},
   "source": [
    "When another seed has used the correlation when adding 'partY' results in a lack of improvement, unlike the other seed... \n",
    "\n",
    "In this case, the addition of of 'partY' does not improve the explained variance and we get R ^2 =0.11) similar to when we did not use this \"important\" parameter"
   ]
  },
  {
   "cell_type": "code",
   "execution_count": 146,
   "metadata": {},
   "outputs": [
    {
     "name": "stdout",
     "output_type": "stream",
     "text": [
      "                            OLS Regression Results                            \n",
      "==============================================================================\n",
      "Dep. Variable:                    VIQ   R-squared:                       0.116\n",
      "Model:                            OLS   Adj. R-squared:                  0.068\n",
      "Method:                 Least Squares   F-statistic:                     2.421\n",
      "Date:                Mon, 18 May 2020   Prob (F-statistic):              0.103\n",
      "Time:                        10:03:33   Log-Likelihood:                -180.27\n",
      "No. Observations:                  40   AIC:                             366.5\n",
      "Df Residuals:                      37   BIC:                             371.6\n",
      "Df Model:                           2                                         \n",
      "Covariance Type:            nonrobust                                         \n",
      "==============================================================================\n",
      "                 coef    std err          t      P>|t|      [0.025      0.975]\n",
      "------------------------------------------------------------------------------\n",
      "Intercept     19.8290     53.695      0.369      0.714     -88.967     128.625\n",
      "MRI_Count      0.0001   5.09e-05      2.201      0.034    8.88e-06       0.000\n",
      "prediction    -0.0925      0.333     -0.278      0.783      -0.767       0.582\n",
      "==============================================================================\n",
      "Omnibus:                       23.035   Durbin-Watson:                   1.776\n",
      "Prob(Omnibus):                  0.000   Jarque-Bera (JB):                3.552\n",
      "Skew:                          -0.010   Prob(JB):                        0.169\n",
      "Kurtosis:                       1.540   Cond. No.                     1.36e+07\n",
      "==============================================================================\n",
      "\n",
      "Warnings:\n",
      "[1] Standard Errors assume that the covariance matrix of the errors is correctly specified.\n",
      "[2] The condition number is large, 1.36e+07. This might indicate that there are\n",
      "strong multicollinearity or other numerical problems.\n"
     ]
    },
    {
     "data": {
      "text/plain": [
       "0.115737734653799"
      ]
     },
     "execution_count": 146,
     "metadata": {},
     "output_type": "execute_result"
    }
   ],
   "source": [
    "np.random.seed(8)\n",
    "partY=np.random.normal(mu, sigma,size=len(data.index))\n",
    "data['prediction'] = partY\n",
    "model = ols('VIQ ~  MRI_Count + prediction', data).fit()\n",
    "print(model.summary())\n",
    "model.rsquared"
   ]
  },
  {
   "cell_type": "code",
   "execution_count": null,
   "metadata": {},
   "outputs": [],
   "source": []
  }
 ],
 "metadata": {
  "kernelspec": {
   "display_name": "Python 3",
   "language": "python",
   "name": "python3"
  },
  "language_info": {
   "codemirror_mode": {
    "name": "ipython",
    "version": 3
   },
   "file_extension": ".py",
   "mimetype": "text/x-python",
   "name": "python",
   "nbconvert_exporter": "python",
   "pygments_lexer": "ipython3",
   "version": "3.7.6"
  }
 },
 "nbformat": 4,
 "nbformat_minor": 4
}
